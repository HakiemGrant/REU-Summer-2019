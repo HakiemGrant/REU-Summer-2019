{
  "nbformat": 4,
  "nbformat_minor": 0,
  "metadata": {
    "colab": {
      "name": "Version1.ipynb",
      "version": "0.3.2",
      "provenance": [],
      "collapsed_sections": [],
      "toc_visible": true,
      "include_colab_link": true
    },
    "language_info": {
      "codemirror_mode": {
        "name": "ipython",
        "version": 3
      },
      "file_extension": ".py",
      "mimetype": "text/x-python",
      "name": "python",
      "nbconvert_exporter": "python",
      "pygments_lexer": "ipython3",
      "version": "3.7.3"
    },
    "kernelspec": {
      "display_name": "Python 3",
      "language": "python",
      "name": "python3"
    }
  },
  "cells": [
    {
      "cell_type": "markdown",
      "metadata": {
        "id": "view-in-github",
        "colab_type": "text"
      },
      "source": [
        "<a href=\"https://colab.research.google.com/github/HakiemGrant/REU-Summer-2019/blob/master/Version1.ipynb\" target=\"_parent\"><img src=\"https://colab.research.google.com/assets/colab-badge.svg\" alt=\"Open In Colab\"/></a>"
      ]
    },
    {
      "cell_type": "markdown",
      "metadata": {
        "colab_type": "text",
        "id": "zt-U29eTr8fl"
      },
      "source": [
        "# Math/Psych REU Day 4 - Intro to Python \n",
        "### Tarleton State University\n",
        "### Dr. Scott Cook\n",
        "\n",
        "This notebook can also be run locally (say on the Anaconda Distribution https://www.anaconda.com/download/).  The google colab option is easiest because it does not require installation and can be used from any computer.\n",
        "\n",
        "Resources\n",
        "- https://realpython.com/\n",
        "- Jake Vanderplas free books\n",
        "    - Whirlwind Tour of Python - https://github.com/jakevdp/WhirlwindTourOfPython.git\n",
        "    - Python Data Science Handbook - https://github.com/jakevdp/PythonDataScienceHandbook\n",
        "    - Can access directly from Colab: File -> open notebook -> github -> paste link\n",
        "- Google it"
      ]
    },
    {
      "cell_type": "markdown",
      "metadata": {
        "colab_type": "text",
        "id": "HJkr0iT9sOC6"
      },
      "source": [
        "Today, I plan to cover more about Numpy using chapter 2 of https://github.com/jakevdp/PythonDataScienceHandbook."
      ]
    },
    {
      "cell_type": "markdown",
      "metadata": {
        "id": "Vpp_bZnl8Cvs",
        "colab_type": "text"
      },
      "source": [
        "# Review of Day 3"
      ]
    },
    {
      "cell_type": "markdown",
      "metadata": {
        "colab_type": "text",
        "id": "BQjhu4PNY5YS"
      },
      "source": [
        "Homework - Here is some code to get us started writing a simple simulation of the Sinai Billiard.  This will set things up and draw a picture.  Your job is to write code that finds the next collision point, move the particle there, and resolves the collisions.  For now, use the specular collision law.\n",
        "\n",
        "To start, let's number the walls\n",
        "- right = 0\n",
        "- top = 1\n",
        "- left = 2\n",
        "- bottom = 3\n",
        "- scatterer = 4"
      ]
    },
    {
      "cell_type": "markdown",
      "metadata": {
        "colab_type": "text",
        "id": "qFpq_PlacUiS"
      },
      "source": [
        "## Your job - Write the function \"next_state\"\n",
        "\n",
        "The function \"next_state\" will evolve the system forward to the next collision event.\n",
        "1. Find when the next collision occurs\n",
        "1. Move the particle\n",
        "1. Resolve the collision (determine the outgoing velocity)\n",
        "\n",
        "## 1. Find when the next collision occurs\n",
        "### 1a) Find time to collision with each wall\n",
        "For each side of the box, imagine the wall keeps going and forms a line.  Find the time when the particle would hit this line.  The answer is\n",
        "- positive if the particle is moving toward the line\n",
        "- negative if the particle is moving away from the line\n",
        "- zero if the particle is against the wall\n",
        "Remember that pos is the *center* of the particle, which will not get all the way to the wall.  Record the answer in the entry of the array T corresponding that wall (we numbered the walls earlier).\n",
        "\n",
        "It's trickier for the scatter.  Let $\\vec{x}$ be position and $\\vec{v}$ be velocity.  Once it leaves a wall, the particle's position is given by $\\vec{x}(t) = \\vec{x}_0 + \\vec{v}t$ where $t=0$ is the moment it leaves the prior collision.  So, $\\vec{x}_0$ is \"pos\" in the code.  The particle hits the scatterer when $||\\vec{x}(t)||=R$, where R=particle radius + scatterer radius.  We square both sides to get $||\\vec{x}(t)||^2=R^2$.  Recall from Calc 3 that $||\\vec{x}(t)||^2 = \\vec{x}(t) \\cdot \\vec{x}(t)$, the dot product of x with itself.  Thus, we wish to find $t$ such that:\n",
        "$$\n",
        "R^2 = \\vec{x}(t) \\cdot \\vec{x}(t) = (\\vec{x}_0 + \\vec{v}t) \\cdot (\\vec{x}_0 + \\vec{v}t) = \\vec{x}_0 \\cdot \\vec{x}_0 + 2 \\vec{x}_0 \\cdot \\vec{v} t + \\vec{v} \\cdot \\vec{v} t^2\\\\R^2 = \\vec{x}_0 \\cdot \\vec{x}_0 + 2 \\vec{x}_0 \\cdot \\vec{v} t + \\vec{v} \\cdot \\vec{v} t^2\n",
        "$$\n",
        "\n",
        "It we define \n",
        "$$a = \\vec{v} \\cdot \\vec{v}\\\\b=2 \\vec{x}_0 \\cdot \\vec{v}\\\\c=\\vec{x}_0 \\cdot \\vec{x}_0-R^2$$\n",
        "then the equation reads\n",
        "$$0 = at^2 + bt + c$$\n",
        "\n",
        "In other word, the $t$ we seek solves the quadratic with $a,b,c$ defined above.  Note there can be 2 solutions - keep the smallest positive one (if there are any).  If there aren't any, use np.inf.  Record in T[4].\n",
        "### 1b) Find the smallest positive time\n",
        "- Can't have negative time.  Replace any negative times in T by np.inf (recall fancy indexing idx = T < 0; T[idx]=np.inf).  \n",
        "- Can't hit the same wall again.  Replace the entry in slot \"prior_wall\" by np.inf.  This is important - the particle can get stuck otherwise.\n",
        "- Use np.argmin to find which *slot* holds the smallest time; call this next_wall.  Then our real $t$ is T[next_wall].\n",
        "\n",
        "## 2. Move the particle\n",
        "pos = pos + t*vel\n",
        "\n",
        "prior_wall = next_wall.\n",
        "\n",
        "## 3. Resolve the collision\n",
        "If the particle hits a side, then the outgoing velocity is just in incoming velocity with one sign flipped.  Write code to implement this.\n",
        "\n",
        "If is hits the scatterer, we must work harder.  Hopefully, Dr. Cox will justify the following expression for specular collisions in lecture.  Let $\\hat{n}$ be the outward point unit (length 1) normal vecter to the scatterer at the collision point.  Then\n",
        "$$\\vec{v}_{out} = \\vec{v}_{in} - 2 (\\hat{n} \\cdot \\vec{v}_{in})\\hat{n}$$\n",
        "\n",
        "The circle is nice because the vector from the center of the scatterer to the center of the particle is automatically an outward point normal vector.  So $\\vec{n} = pos$.  But you need to normalize it to length 1 before using it in the expression above."
      ]
    },
    {
      "cell_type": "markdown",
      "metadata": {
        "id": "7wjCdD7Q72bn",
        "colab_type": "text"
      },
      "source": [
        "# New for Day 4"
      ]
    },
    {
      "cell_type": "markdown",
      "metadata": {
        "id": "IHXiHz0I_Hk5",
        "colab_type": "text"
      },
      "source": [
        "## Cosine law for initial velocity angle"
      ]
    },
    {
      "cell_type": "markdown",
      "metadata": {
        "id": "o7QvgB3S8LtW",
        "colab_type": "text"
      },
      "source": [
        "We need to change how we select initial angle phi for the velocity.  It must obey the \"invariant billiard measure\" where phi follows the cosine distribution.  See below.\n"
      ]
    },
    {
      "cell_type": "code",
      "metadata": {
        "colab_type": "code",
        "id": "UR6rN24RuONy",
        "outputId": "a54d3c95-b9a9-4794-b40a-2e1e573beab3",
        "colab": {
          "base_uri": "https://localhost:8080/",
          "height": 809
        }
      },
      "source": [
        "import numpy as np\n",
        "import matplotlib.pyplot as plt\n",
        "import seaborn as sns\n",
        "\n",
        "x = np.linspace(-np.pi/2, np.pi/2, 1000)\n",
        "y = np.cos(x)/2\n",
        "plt.plot(x,y)\n",
        "plt.title(\"Cosine Law that thetas should follow\")\n",
        "plt.show()\n",
        "\n",
        "a = np.random.uniform(low=-1, high=1, size=100000)\n",
        "sns.distplot(a)\n",
        "plt.plot(x,y)\n",
        "plt.title(\"The original random sample from U[-1,1] doesn' obey it.\")\n",
        "plt.show()\n",
        "\n",
        "phi = np.arcsin(a)\n",
        "sns.distplot(phi)\n",
        "plt.plot(x,y)\n",
        "plt.title(\"But the arcsin of a U[-1,1] sample does follow cosine law\")\n",
        "plt.show()"
      ],
      "execution_count": 0,
      "outputs": [
        {
          "output_type": "display_data",
          "data": {
            "image/png": "[encoded data removed]",
            "text/plain": [
              "<Figure size 432x288 with 1 Axes>"
            ]
          },
          "metadata": {
            "tags": []
          }
        },
        {
          "output_type": "display_data",
          "data": {
            "image/png": "[encoded data removed]",
            "text/plain": [
              "<Figure size 432x288 with 1 Axes>"
            ]
          },
          "metadata": {
            "tags": []
          }
        },
        {
          "output_type": "display_data",
          "data": {
            "image/png": "[encoded data removed]",
            "text/plain": [
              "<Figure size 432x288 with 1 Axes>"
            ]
          },
          "metadata": {
            "tags": []
          }
        }
      ]
    },
    {
      "cell_type": "markdown",
      "metadata": {
        "id": "seDyj8Ox-yiN",
        "colab_type": "text"
      },
      "source": [
        "## Improved version of Day 3 code"
      ]
    },
    {
      "cell_type": "code",
      "metadata": {
        "colab_type": "code",
        "id": "FXBln0Sk_x8-",
        "colab": {}
      },
      "source": [
        "# Improved versions of the code from day 3\n",
        "\n",
        "import numpy as np\n",
        "import matplotlib.pyplot as plt\n",
        "\n",
        "\n",
        "# improvements to draw include\n",
        "#  - draw trails\n",
        "#  - specify how many steps to plot\n",
        "#  - pass in ax so we can overlay multiple runs\n",
        "\n",
        "def draw(state, steps=None, ax=None):\n",
        "    if state['POS'].ndim > 1:\n",
        "        pos_hist = state['POS'][:steps]   # plot the first \"steps\"\n",
        "        vel_hist = state['VEL'][:steps]   # plot the first \"steps\"\n",
        "        pos = pos_hist[-1]  # the last state position\n",
        "        vel = vel_hist[-1]  # the last state velocity\n",
        "        draw_trails = True\n",
        "    else:  # if only given the last state, we can't draw the trails\n",
        "        pos = state['POS']  # the last state position\n",
        "        vel = state['VEL']  # the last state velocity\n",
        "        draw_trails = False\n",
        "    \n",
        "    if ax is None:   # May pass in ax to overlay plots\n",
        "        fig, ax = plt.subplots(figsize=(5,5))\n",
        "\n",
        "    # Trace box top-right, top-left, bottom-left, bottom-right, top-right\n",
        "    s = side\n",
        "    X = [s,-s,-s, s, s]\n",
        "    Y = [s, s,-s,-s, s]\n",
        "    box = ax.plot(X, Y)\n",
        "\n",
        "\n",
        "    # Trace scatterer\n",
        "    thetas = np.linspace(0, 2*np.pi)\n",
        "    U = np.array([np.cos(thetas), np.sin(thetas)])\n",
        "    pts = U * scatterer_radius\n",
        "    scatterer = ax.fill_between(pts[0], pts[1])\n",
        "\n",
        "\n",
        "    # Trace particle\n",
        "    thetas = np.linspace(0, 2*np.pi)\n",
        "    U = np.array([np.cos(thetas), np.sin(thetas)])\n",
        "    pts = (U.T * particle_radius + pos).T\n",
        "    particle = ax.plot(pts[0], pts[1])\n",
        "\n",
        "\n",
        "    # Draw arrow for velocity\n",
        "    ax.annotate(\"\", xy=pos, xytext=pos+vel, arrowprops=dict(arrowstyle=\"<-\"))\n",
        "    \n",
        "    # Draw trails\n",
        "    if draw_trails:\n",
        "      ax.plot(pos_hist[:,0], pos_hist[:,1])\n",
        "      ax.set_aspect('equal')\n",
        "    return ax\n",
        "\n",
        "\n",
        "## Changes to initialize - arcsin of phi so we follow the cosine law\n",
        "def initialize():\n",
        "    # particle's initial position will be against the scatterer at angle theta to the positive x-axis\n",
        "    theta = np.random.rand() * np.pi / 4  \n",
        "    pos = np.array([np.cos(theta), np.sin(theta)]) * (particle_radius + scatterer_radius)\n",
        "\n",
        "\n",
        "    # particle's initial velocity will be at angle phi to the normal vector at intial position\n",
        "    a = np.random.rand()  # between 0 and 1\n",
        "    a = 2*a - 1  # between -1 and +1\n",
        "#     phi =  a * np.pi / 2  #between -pi/2 and +pi/2\n",
        "    phi =  np.arcsin(a)  # Follows the cosine law, the invariant measure for the billiard map\n",
        "\n",
        "\n",
        "    # Now, we need to get a normal vector to the scatterer at intitial position.\n",
        "    n = pos.copy()\n",
        "\n",
        "    # But we want it to have length 1 (unit vector).\n",
        "    n /= np.linalg.norm(n)\n",
        "   \n",
        "\n",
        "    # Now, we want to rotate it by angle phi.  So, create the rotation matrix.\n",
        "    R = np.array([[np.cos(phi), -np.sin(phi)],\n",
        "                  [np.sin(phi), np.cos(phi)]\n",
        "                 ])\n",
        "\n",
        "    # Apply it to n\n",
        "    vel = R@n\n",
        "    wall_idx = num_walls-1\n",
        "    state = {'pos':pos, 'vel':vel, 'phi':phi, 'wall':wall_idx, 't':0}\n",
        "    return state\n",
        "\n",
        "  \n",
        "def next_state(state):\n",
        "  pos = state['pos']  \n",
        "  vel = state['vel']\n",
        "  sr=side-particle_radius\n",
        "  DT = np.full(shape=num_walls, fill_value=np.nan)  # initializes an array to hold collision times, prefilled with the \"not a number\" placeholder np.nan\n",
        "    # Find collision times with each wall\n",
        "  try:\n",
        "    DT[0]=(sr-pos[0])/vel[0]\n",
        "  except ZeroDivisionError:\n",
        "    DT[0]=np.inf\n",
        "    \n",
        "  try:\n",
        "    DT[1]=(sr-pos[1])/vel[1]\n",
        "  except ZeroDivisionError:\n",
        "    DT[1]=np.inf\n",
        "  \n",
        "  try:  \n",
        "    DT[2]=(-sr-pos[0])/vel[0]\n",
        "  except ZeroDivisionError:\n",
        "    DT[2]=np.inf\n",
        "  \n",
        "  try:\n",
        "    DT[3]=(-sr-pos[1])/vel[1]\n",
        "  except ZeroDivisionError:\n",
        "    DT[3]=np.inf\n",
        "  \n",
        "  \n",
        "  \n",
        "  a_quad=vel@vel\n",
        "  b_quad=2*pos@vel\n",
        "  c_quad=pos@pos-(scatterer_radius+particle_radius)**2\n",
        "  root=(b_quad**2)-(4*a_quad*c_quad)\n",
        "  if root < 0:\n",
        "    print(f\"disc is negative {root}\")\n",
        "    DT[4] = np.inf\n",
        "  else:\n",
        "    quad_formula_pos=(-b_quad+np.sqrt(root))/(2*a_quad)\n",
        "    quad_formula_neg=(-b_quad-np.sqrt(root))/(2*a_quad)\n",
        "\n",
        "\n",
        "#     if (quad_formula_pos>0) and (quad_formula_neg<0):\n",
        "#       raise Exception ('shouldnt happen check code')\n",
        "#     elif (quad_formula_pos<0) and (quad_formula_neg>0):\n",
        "#       raise Exception ('shouldnt happen check code')\n",
        "    if (quad_formula_pos<0) and (quad_formula_neg<0):\n",
        "      DT[4]=np.inf\n",
        "    elif (quad_formula_pos<quad_formula_neg):\n",
        "      DT[4]=quad_formula_pos\n",
        "    elif(quad_formula_pos>quad_formula_neg): \n",
        "      DT[4]=quad_formula_neg\n",
        "  print(DT)\n",
        "  w=state['wall']\n",
        "  DT[w]=np.inf\n",
        "  print(f'{DT}\\n\\n')\n",
        "    \n",
        "  idx=DT<0\n",
        "  DT[idx]=np.inf\n",
        "  w=np.argmin(DT)    \n",
        "    \n",
        "    # Move particle \n",
        "  print(f\"wall={w}\")\n",
        "  state['wall']=w\n",
        "  pos+=vel*DT[w]\n",
        "    # Resolve collision\n",
        "  if (w==0) or (w==2):   # for wall collision\n",
        "    vel[0]=-1*vel[0]\n",
        "  elif (w==1) or (w==3):\n",
        "    vel[1]=-1*vel[1]\n",
        "  elif (w==4):\n",
        "    dx=pos\n",
        "    n=dx/np.linalg.norm(dx)\n",
        "    vel-=2*(vel@n)*n   \n",
        "    \n",
        "    \n",
        "    \n",
        "  return state\n",
        "\n",
        "\n",
        "# Initialize arrays where the states will be recorded\n",
        "# state_history = {'POS':np.full(shape=(steps, dim), fill_value=np.nan), # steps x dim filled with the \"not a number\" placeholder np.nan\n",
        "#                  'VEL':np.full(shape=(steps, dim), fill_value=np.nan),\n",
        "#                  'WALL':np.full(shape=steps, fill_value=num_walls),\n",
        "#                  'PHI':np.full(shape=steps, fill_value=np.nan),\n",
        "#                  'T':np.full(shape=steps, fill_value=0.0),\n",
        "#                 }\n",
        "\n",
        "# pos_history[0] = pos.copy()\n",
        "# vel_history[0] = vel.copy()\n",
        "# prior_wall_history = prior_wall\n",
        "\n",
        "# for i in range(steps):\n",
        "#     state_out = next_state(state_in)  # evolves the system forward one step\n",
        "    \n",
        "#     ## record current state for later use\n",
        "#     state_history['POS'][i+1] = state['pos'].copy()\n",
        "#     state_history['VEL'][i+1] = state['vel'].copy()\n",
        "#     state_history['WALL'][i+1] = state['wall']\n",
        "#     state_history['PHI'][i+1] = state['phi']\n",
        "#     state_history['T'][i+1] = state['t']\n",
        "\n",
        "\n",
        "\n",
        "\n",
        "    \n",
        "    \n",
        "## New today - helper function to record states and create the state_history object if needed\n",
        "def record_state(state, idx, state_history=None):\n",
        "    if state_history is None:  # create state_history\n",
        "        state_history = {'POS':np.full(shape=(steps+1, dim), fill_value=np.inf), # steps x dim filled with infinity\n",
        "                         'VEL':np.full(shape=(steps+1, dim), fill_value=np.inf),\n",
        "                         'WALL':np.full(shape=steps+1, fill_value=num_walls),\n",
        "                         'PHI':np.full(shape=steps+1, fill_value=np.inf),\n",
        "                         'T':np.full(shape=steps+1, fill_value=0.0),\n",
        "                        }\n",
        "    state_history['POS'][idx] = state['pos'].copy()\n",
        "    state_history['VEL'][idx] = state['vel'].copy()\n",
        "    state_history['WALL'][idx] = state['wall']\n",
        "    state_history['PHI'][idx] = state['phi']\n",
        "    state_history['T'][idx] = state['t']\n",
        "    \n",
        "    return state_history"
      ],
      "execution_count": 0,
      "outputs": []
    },
    {
      "cell_type": "markdown",
      "metadata": {
        "id": "qU4n1Hp2-4m7",
        "colab_type": "text"
      },
      "source": [
        "## New Code for Day 4"
      ]
    },
    {
      "cell_type": "markdown",
      "metadata": {
        "id": "UNTzyhLE_ic4",
        "colab_type": "text"
      },
      "source": [
        "- When doing the homework last night, I found np.inf to be a bit more convenient than np.nan.\n",
        "- %run -i \"billiards/dynamics\" pulls in my version of next_state from another file, so that I don't ruin it for you.\n",
        "- Though we eventually need to select intital conditions randomly, it can be helpful to get the same \"random\" numbers each time you run it while writing and debugging code.  Use np.random.seed(any number).  Make sure to disable this when you run it \"for real\"."
      ]
    },
    {
      "cell_type": "code",
      "metadata": {
        "id": "7dC5ptjI6KoN",
        "colab_type": "code",
        "outputId": "f14b6992-cc87-4e09-b229-ad6a86b84e9e",
        "colab": {
          "base_uri": "https://localhost:8080/",
          "height": 1258
        }
      },
      "source": [
        "np.random.seed(3)  # produces the same thing every thing - easier for debugging\n",
        "\n",
        "steps = 10\n",
        "dim = 2\n",
        "num_walls = 5\n",
        "\n",
        "particle_radius = 1\n",
        "side = 10  # This is HALF the length of a side, which will go from -side to +side\n",
        "scatterer_radius = 2\n",
        "assert (scatterer_radius < side), \"scatterer won't fit in the box\"  # checks that the scatterer fits inside the box\n",
        "\n",
        "state = initialize()\n",
        "\n",
        "state_history = record_state(state, 0)  # creates state_history because we didn't pass in state_history\n",
        "\n",
        "\n",
        "\n",
        "for i in range(steps):\n",
        "    state = next_state(state)  # evolves the system forward one step\n",
        "\n",
        "    ## record current state for later use\n",
        "    state_history = record_state(state, i+1, state_history)  # record in the existing state_history\n",
        "\n",
        "draw(state_history)\n",
        "plt.show()\n"
      ],
      "execution_count": 0,
      "outputs": [
        {
          "output_type": "stream",
          "text": [
            "[  9.64186476  10.19903971 -18.01008927 -13.5125692   -5.45537585]\n",
            "[  9.64186476  10.19903971 -18.01008927 -13.5125692           inf]\n",
            "\n",
            "\n",
            "wall=0\n",
            "disc is negative -580.5592963207918\n",
            "[ -0.           0.55717496  27.65195402 -23.15443396          inf]\n",
            "[         inf   0.55717496  27.65195402 -23.15443396          inf]\n",
            "\n",
            "\n",
            "wall=1\n",
            "[-0.55717496 -0.         27.09477906 23.71160892  9.53692547]\n",
            "[-0.55717496         inf 27.09477906 23.71160892  9.53692547]\n",
            "\n",
            "\n",
            "wall=4\n",
            "[  7.11055112  18.94256478 -12.36821611 -28.15423693          inf]\n",
            "[  7.11055112  18.94256478 -12.36821611 -28.15423693          inf]\n",
            "\n",
            "\n",
            "wall=0\n",
            "disc is negative -193.68492279615032\n",
            "[ -0.          11.83201366  19.47876723 -35.26478805          inf]\n",
            "[         inf  11.83201366  19.47876723 -35.26478805          inf]\n",
            "\n",
            "\n",
            "wall=1\n",
            "disc is negative -292.0312424064503\n",
            "[-11.83201366  -0.           7.64675357  47.0968017           inf]\n",
            "[-11.83201366          inf   7.64675357  47.0968017           inf]\n",
            "\n",
            "\n",
            "wall=2\n",
            "[19.47876723 -7.64675357  0.         39.45004813  8.57470259]\n",
            "[19.47876723 -7.64675357         inf 39.45004813  8.57470259]\n",
            "\n",
            "\n",
            "wall=4\n",
            "[ 23.41982437   6.86786315 -18.41680469 -13.07204764  -4.12961052]\n",
            "[ 23.41982437   6.86786315 -18.41680469 -13.07204764          inf]\n",
            "\n",
            "\n",
            "wall=1\n",
            "disc is negative -88.01234179630538\n",
            "[ 16.55196123  -0.         -25.28466783  19.93991079          inf]\n",
            "[ 16.55196123          inf -25.28466783  19.93991079          inf]\n",
            "\n",
            "\n",
            "wall=0\n",
            "disc is negative -420.3160320939056\n",
            "[ -0.         -16.55196123  41.83662906   3.38794956          inf]\n",
            "[         inf -16.55196123  41.83662906   3.38794956          inf]\n",
            "\n",
            "\n",
            "wall=3\n"
          ],
          "name": "stdout"
        },
        {
          "output_type": "display_data",
          "data": {
            "image/png": "[encoded data removed]",
            "text/plain": [
              "<Figure size 360x360 with 1 Axes>"
            ]
          },
          "metadata": {
            "tags": []
          }
        }
      ]
    },
    {
      "cell_type": "markdown",
      "metadata": {
        "id": "mRJbSIu4Ai8B",
        "colab_type": "text"
      },
      "source": [
        "## Visualizing chaos\n",
        "\n",
        "Chaos means that very similiar starts become very different very quickly.  We'll show this in the Sinai billiard by starting 2 particle at the same velocity and *almost* the same position.  Let's overlay their plots and see them diverge."
      ]
    },
    {
      "cell_type": "code",
      "metadata": {
        "id": "5XUBGRS46LK6",
        "colab_type": "code",
        "colab": {}
      },
      "source": [
        "runs = []\n",
        "for dx in [0.0, 0.1]:\n",
        "    \n",
        "    np.random.seed(3)  # produces the same thing every thing - easier for debugging\n",
        "\n",
        "    steps = 50\n",
        "    dim = 2\n",
        "    num_walls = 5\n",
        "\n",
        "    particle_radius = 1\n",
        "    side = 10  # This is HALF the length of a side, which will go from -side to +side\n",
        "    scatterer_radius = 2\n",
        "    assert (scatterer_radius < side), \"scatterer won't fit in the box\"  # checks that the scatterer fits inside the box\n",
        "\n",
        "    state = initialize()\n",
        "    \n",
        "    state['pos'][0] += dx\n",
        "    \n",
        "    state_history = record_state(state, 0)  # creates state_history because we didn't pass in state_history\n",
        "    \n",
        "    \n",
        "    \n",
        "    for i in range(steps):\n",
        "        state = next_state(state)  # evolves the system forward one step\n",
        "\n",
        "        ## record current state for later use\n",
        "        state_history = record_state(state, i+1, state_history)\n",
        "    runs.append(state_history)"
      ],
      "execution_count": 0,
      "outputs": []
    },
    {
      "cell_type": "code",
      "metadata": {
        "id": "43y5XNhi5KUO",
        "colab_type": "code",
        "colab": {}
      },
      "source": [
        "#@title Interactive {run: \"auto\"}\n",
        "plot_steps = 1 #@param {type:\"slider\", min:1, max:50, step:1}\n",
        "\n",
        "ax = draw(runs[0], steps=plot_steps)\n",
        "ax = draw(runs[1], steps=plot_steps, ax=ax)\n",
        "plt.show()"
      ],
      "execution_count": 0,
      "outputs": []
    },
    {
      "cell_type": "code",
      "metadata": {
        "id": "QRDdo4fJc0qN",
        "colab_type": "code",
        "colab": {}
      },
      "source": [
        ""
      ],
      "execution_count": 0,
      "outputs": []
    }
  ]
}