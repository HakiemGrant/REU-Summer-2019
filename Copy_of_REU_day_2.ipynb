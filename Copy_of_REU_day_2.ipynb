{
  "nbformat": 4,
  "nbformat_minor": 0,
  "metadata": {
    "colab": {
      "name": "Copy of REU day 2.ipynb",
      "version": "0.3.2",
      "provenance": [],
      "collapsed_sections": [
        "Or4k4MaYVr31"
      ],
      "include_colab_link": true
    },
    "kernelspec": {
      "name": "python3",
      "display_name": "Python 3"
    }
  },
  "cells": [
    {
      "cell_type": "markdown",
      "metadata": {
        "id": "view-in-github",
        "colab_type": "text"
      },
      "source": [
        "<a href=\"https://colab.research.google.com/github/HakiemGrant/REU-Summer-2019/blob/master/Copy_of_REU_day_2.ipynb\" target=\"_parent\"><img src=\"https://colab.research.google.com/assets/colab-badge.svg\" alt=\"Open In Colab\"/></a>"
      ]
    },
    {
      "cell_type": "markdown",
      "metadata": {
        "id": "zt-U29eTr8fl",
        "colab_type": "text"
      },
      "source": [
        "# Math/Psych REU Day 2 - Intro to Python \n",
        "### Tarleton State University\n",
        "### Dr. Scott Cook\n",
        "\n",
        "This notebook can also be run locally (say on the Anaconda Distribution https://www.anaconda.com/download/).  The google colab option is easiest because it does not require installation and can be used from any computer.\n",
        "\n",
        "Resources\n",
        "- https://realpython.com/\n",
        "- Jake Vanderplas free books\n",
        "    - Whirlwind Tour of Python - https://github.com/jakevdp/WhirlwindTourOfPython.git\n",
        "    - Python Data Science Handbook - https://github.com/jakevdp/PythonDataScienceHandbook\n",
        "    - Can access directly from Colab: File -> open notebook -> github -> paste link\n",
        "- Google it"
      ]
    },
    {
      "cell_type": "markdown",
      "metadata": {
        "id": "HJkr0iT9sOC6",
        "colab_type": "text"
      },
      "source": [
        "Today, we finish a few items about base Python and move into the Scientific Stack, specifically NumPy.\n",
        "\n",
        "We'll use chapter 2 of Vanderplas's https://github.com/jakevdp/PythonDataScienceHandbook.\n",
        "Homework is problems #1 & 2 of http://www.math.pitt.edu/~sussmanm/3040Summer14/exercisesII.pdf."
      ]
    },
    {
      "cell_type": "markdown",
      "metadata": {
        "id": "PCv7u4pcuXYv",
        "colab_type": "text"
      },
      "source": [
        "The homework has 2 problems, each with subproblems.  I'd like you to use the \"sections\" in Colab to organize them.  For each, make a new text cell and use # to subindent."
      ]
    },
    {
      "cell_type": "markdown",
      "metadata": {
        "id": "kqZAOzk1V5gQ",
        "colab_type": "text"
      },
      "source": [
        "# https://colab.research.google.com/drive/1X4RWStJLZqp965gsc-ZGCEfreZvhTv5u"
      ]
    },
    {
      "cell_type": "markdown",
      "metadata": {
        "id": "5ZDKdYm3tMnY",
        "colab_type": "text"
      },
      "source": [
        "# Homework problem #1"
      ]
    },
    {
      "cell_type": "markdown",
      "metadata": {
        "id": "0LN_FhJbtZ_W",
        "colab_type": "text"
      },
      "source": [
        "## 1.1"
      ]
    },
    {
      "cell_type": "markdown",
      "metadata": {
        "id": "Or4k4MaYVr31",
        "colab_type": "text"
      },
      "source": [
        "### New Section"
      ]
    },
    {
      "cell_type": "code",
      "metadata": {
        "id": "YFASf1c0tf_w",
        "colab_type": "code",
        "colab": {}
      },
      "source": [
        "x=7"
      ],
      "execution_count": 0,
      "outputs": []
    },
    {
      "cell_type": "markdown",
      "metadata": {
        "id": "JLTCzeT_tjFx",
        "colab_type": "text"
      },
      "source": [
        "## 1.2"
      ]
    },
    {
      "cell_type": "code",
      "metadata": {
        "id": "XS9Wx6vXuUW1",
        "colab_type": "code",
        "colab": {
          "base_uri": "https://localhost:8080/",
          "height": 34
        },
        "outputId": "2280d6d8-2053-4179-a613-97a8a9ba5605"
      },
      "source": [
        "x**2"
      ],
      "execution_count": 9,
      "outputs": [
        {
          "output_type": "execute_result",
          "data": {
            "text/plain": [
              "49"
            ]
          },
          "metadata": {
            "tags": []
          },
          "execution_count": 9
        }
      ]
    },
    {
      "cell_type": "code",
      "metadata": {
        "id": "Uvqgrv4EC_K6",
        "colab_type": "code",
        "colab": {}
      },
      "source": [
        ""
      ],
      "execution_count": 0,
      "outputs": []
    },
    {
      "cell_type": "markdown",
      "metadata": {
        "id": "3F5YnSItC_rc",
        "colab_type": "text"
      },
      "source": [
        "## 1.3"
      ]
    },
    {
      "cell_type": "code",
      "metadata": {
        "id": "ACffKT_rDLvB",
        "colab_type": "code",
        "colab": {}
      },
      "source": [
        "import numpy as np\n",
        "import scipy.linalg as la\n",
        "import matplotlib.pyplot as plt\n",
        "theta=180"
      ],
      "execution_count": 0,
      "outputs": []
    },
    {
      "cell_type": "markdown",
      "metadata": {
        "id": "zp6pIPDxEMo-",
        "colab_type": "text"
      },
      "source": [
        "# 1.4"
      ]
    },
    {
      "cell_type": "code",
      "metadata": {
        "id": "_7IgA86gEQjp",
        "colab_type": "code",
        "colab": {
          "base_uri": "https://localhost:8080/",
          "height": 34
        },
        "outputId": "feebd437-38c4-4530-cc08-10028c68a215"
      },
      "source": [
        "np.sin(theta)\n",
        "np.cos(theta)\n",
        "#this is being measured in radians"
      ],
      "execution_count": 19,
      "outputs": [
        {
          "output_type": "execute_result",
          "data": {
            "text/plain": [
              "-0.5984600690578581"
            ]
          },
          "metadata": {
            "tags": []
          },
          "execution_count": 19
        }
      ]
    },
    {
      "cell_type": "markdown",
      "metadata": {
        "id": "qhVD7dOuFGEe",
        "colab_type": "text"
      },
      "source": [
        "# 1.5"
      ]
    },
    {
      "cell_type": "code",
      "metadata": {
        "id": "sxpgFV3AFH8t",
        "colab_type": "code",
        "colab": {}
      },
      "source": [
        "meshpoints=np.linspace(-1,1,num=100)"
      ],
      "execution_count": 0,
      "outputs": []
    },
    {
      "cell_type": "markdown",
      "metadata": {
        "id": "IdK5SvB1F7Rz",
        "colab_type": "text"
      },
      "source": [
        "# 1.6"
      ]
    },
    {
      "cell_type": "code",
      "metadata": {
        "id": "tVGddmKkF8iA",
        "colab_type": "code",
        "colab": {
          "base_uri": "https://localhost:8080/",
          "height": 34
        },
        "outputId": "3359c8ea-b940-47bc-da31-70710f983f9d"
      },
      "source": [
        "meshpoints[53]"
      ],
      "execution_count": 28,
      "outputs": [
        {
          "output_type": "execute_result",
          "data": {
            "text/plain": [
              "0.07070707070707072"
            ]
          },
          "metadata": {
            "tags": []
          },
          "execution_count": 28
        }
      ]
    },
    {
      "cell_type": "markdown",
      "metadata": {
        "id": "NBbS9omMIrVS",
        "colab_type": "text"
      },
      "source": [
        "# 1.7"
      ]
    },
    {
      "cell_type": "code",
      "metadata": {
        "id": "dgg8ctw8JrhM",
        "colab_type": "code",
        "colab": {
          "base_uri": "https://localhost:8080/",
          "height": 286
        },
        "outputId": "ad19e4df-77d9-4947-8a5d-ca343428c847"
      },
      "source": [
        "plt.plot(meshpoints,np.sin(2*3.14*meshpoints))"
      ],
      "execution_count": 29,
      "outputs": [
        {
          "output_type": "execute_result",
          "data": {
            "text/plain": [
              "[<matplotlib.lines.Line2D at 0x7fd8dc87dba8>]"
            ]
          },
          "metadata": {
            "tags": []
          },
          "execution_count": 29
        },
        {
          "output_type": "display_data",
          "data": {
            "image/png": "[encoded data removed]",
            "text/plain": [
              "<Figure size 432x288 with 1 Axes>"
            ]
          },
          "metadata": {
            "tags": []
          }
        }
      ]
    },
    {
      "cell_type": "markdown",
      "metadata": {
        "id": "PjoTa_wCtURw",
        "colab_type": "text"
      },
      "source": [
        "# Homework problem #2"
      ]
    },
    {
      "cell_type": "markdown",
      "metadata": {
        "id": "7PHBUiJ5J2r9",
        "colab_type": "text"
      },
      "source": [
        "# **2**"
      ]
    },
    {
      "cell_type": "code",
      "metadata": {
        "id": "5gAoXzuRK_uf",
        "colab_type": "code",
        "colab": {}
      },
      "source": [
        "import numpy as np\n",
        "import scipy.linalg as la\n",
        "import matplotlib.pyplot as plt\n",
        "vec1=np.array([-1., 4., -9.])\n",
        "mat1=np.array([[1., 3., 5.], [7., -9., 2.], [4., 6., 8.]])"
      ],
      "execution_count": 0,
      "outputs": []
    },
    {
      "cell_type": "markdown",
      "metadata": {
        "id": "wif0PEKxK6B2",
        "colab_type": "text"
      },
      "source": [
        "# 2.1"
      ]
    },
    {
      "cell_type": "code",
      "metadata": {
        "id": "azvgwVfJJ4b-",
        "colab_type": "code",
        "colab": {
          "base_uri": "https://localhost:8080/",
          "height": 34
        },
        "outputId": "fad19cc4-ebb2-42e8-f155-2cbba099730b"
      },
      "source": [
        "vec2=(np.pi/4)*vec1\n",
        "print(vec2)"
      ],
      "execution_count": 3,
      "outputs": [
        {
          "output_type": "stream",
          "text": [
            "[-0.78539816  3.14159265 -7.06858347]\n"
          ],
          "name": "stdout"
        }
      ]
    },
    {
      "cell_type": "markdown",
      "metadata": {
        "id": "lGhWTXMnKqOb",
        "colab_type": "text"
      },
      "source": [
        "# 2.2"
      ]
    },
    {
      "cell_type": "code",
      "metadata": {
        "id": "RtKm4SfsKrdb",
        "colab_type": "code",
        "colab": {
          "base_uri": "https://localhost:8080/",
          "height": 34
        },
        "outputId": "ab413de6-f335-420c-a3e9-f504d7904970"
      },
      "source": [
        "vec2=np.cos(vec2)\n",
        "print(vec2)"
      ],
      "execution_count": 4,
      "outputs": [
        {
          "output_type": "stream",
          "text": [
            "[ 0.70710678 -1.          0.70710678]\n"
          ],
          "name": "stdout"
        }
      ]
    },
    {
      "cell_type": "markdown",
      "metadata": {
        "id": "1BIWUJPzLUY-",
        "colab_type": "text"
      },
      "source": [
        "# 2.3"
      ]
    },
    {
      "cell_type": "code",
      "metadata": {
        "id": "QJIcxAmhLWA0",
        "colab_type": "code",
        "colab": {
          "base_uri": "https://localhost:8080/",
          "height": 34
        },
        "outputId": "c331e962-3f39-49b8-c87d-56318d1a6b10"
      },
      "source": [
        "vec3=vec1+2*vec2\n",
        "print(vec3)"
      ],
      "execution_count": 5,
      "outputs": [
        {
          "output_type": "stream",
          "text": [
            "[ 0.41421356  2.         -7.58578644]\n"
          ],
          "name": "stdout"
        }
      ]
    },
    {
      "cell_type": "markdown",
      "metadata": {
        "id": "TaweqzI3L7SE",
        "colab_type": "text"
      },
      "source": [
        "# 2.4"
      ]
    },
    {
      "cell_type": "code",
      "metadata": {
        "id": "6rZqARRXL8lO",
        "colab_type": "code",
        "colab": {
          "base_uri": "https://localhost:8080/",
          "height": 34
        },
        "outputId": "ff9b614b-cdb6-4add-90ef-1874458db0a4"
      },
      "source": [
        "la.norm(vec3)"
      ],
      "execution_count": 6,
      "outputs": [
        {
          "output_type": "execute_result",
          "data": {
            "text/plain": [
              "7.855935892848037"
            ]
          },
          "metadata": {
            "tags": []
          },
          "execution_count": 6
        }
      ]
    },
    {
      "cell_type": "markdown",
      "metadata": {
        "id": "2wFjN30uMERE",
        "colab_type": "text"
      },
      "source": [
        "# 2.5"
      ]
    },
    {
      "cell_type": "code",
      "metadata": {
        "id": "crDwxCDTMFch",
        "colab_type": "code",
        "colab": {
          "base_uri": "https://localhost:8080/",
          "height": 68
        },
        "outputId": "6f124b79-5666-421d-bfb2-739bce9e94a3"
      },
      "source": [
        "vec4=mat1*vec3\n",
        "print(vec4)"
      ],
      "execution_count": 9,
      "outputs": [
        {
          "output_type": "stream",
          "text": [
            "[[  0.41421356   6.         -37.92893219]\n",
            " [  2.89949494 -18.         -15.17157288]\n",
            " [  1.65685425  12.         -60.6862915 ]]\n"
          ],
          "name": "stdout"
        }
      ]
    },
    {
      "cell_type": "markdown",
      "metadata": {
        "id": "NLY5wzvTMVYE",
        "colab_type": "text"
      },
      "source": [
        "# 2.6"
      ]
    },
    {
      "cell_type": "code",
      "metadata": {
        "id": "IC3l51n5MWsx",
        "colab_type": "code",
        "colab": {
          "base_uri": "https://localhost:8080/",
          "height": 68
        },
        "outputId": "d7fa11fc-67ea-468c-fdee-4b87162e01c2"
      },
      "source": [
        "np.transpose(mat1)"
      ],
      "execution_count": 10,
      "outputs": [
        {
          "output_type": "execute_result",
          "data": {
            "text/plain": [
              "array([[ 1.,  7.,  4.],\n",
              "       [ 3., -9.,  6.],\n",
              "       [ 5.,  2.,  8.]])"
            ]
          },
          "metadata": {
            "tags": []
          },
          "execution_count": 10
        }
      ]
    },
    {
      "cell_type": "markdown",
      "metadata": {
        "id": "eB9H81KwMobn",
        "colab_type": "text"
      },
      "source": [
        "# 2.7"
      ]
    },
    {
      "cell_type": "code",
      "metadata": {
        "id": "4EvDWREjMpkn",
        "colab_type": "code",
        "colab": {
          "base_uri": "https://localhost:8080/",
          "height": 34
        },
        "outputId": "89579af2-2f3e-4a25-d3cd-746a84222ee4"
      },
      "source": [
        "la.det(mat1)"
      ],
      "execution_count": 11,
      "outputs": [
        {
          "output_type": "execute_result",
          "data": {
            "text/plain": [
              "161.99999999999997"
            ]
          },
          "metadata": {
            "tags": []
          },
          "execution_count": 11
        }
      ]
    },
    {
      "cell_type": "markdown",
      "metadata": {
        "id": "3NtESEJzNcMq",
        "colab_type": "text"
      },
      "source": [
        "# 2.8"
      ]
    },
    {
      "cell_type": "code",
      "metadata": {
        "id": "SIIBEkCpNdfi",
        "colab_type": "code",
        "colab": {
          "base_uri": "https://localhost:8080/",
          "height": 34
        },
        "outputId": "ff535de2-e973-462c-aaf2-a569b1a72e99"
      },
      "source": [
        "np.trace(mat1)"
      ],
      "execution_count": 16,
      "outputs": [
        {
          "output_type": "execute_result",
          "data": {
            "text/plain": [
              "0.0"
            ]
          },
          "metadata": {
            "tags": []
          },
          "execution_count": 16
        }
      ]
    },
    {
      "cell_type": "markdown",
      "metadata": {
        "id": "FMdEmLrTNkJh",
        "colab_type": "text"
      },
      "source": [
        "# 2.9"
      ]
    },
    {
      "cell_type": "code",
      "metadata": {
        "colab_type": "code",
        "outputId": "d33160a1-3ab9-4b74-af05-c9ec5b9fa0e5",
        "id": "4DJbg7nvODZ3",
        "colab": {
          "base_uri": "https://localhost:8080/",
          "height": 34
        }
      },
      "source": [
        "np.min(vec1)"
      ],
      "execution_count": 17,
      "outputs": [
        {
          "output_type": "execute_result",
          "data": {
            "text/plain": [
              "-9.0"
            ]
          },
          "metadata": {
            "tags": []
          },
          "execution_count": 17
        }
      ]
    },
    {
      "cell_type": "markdown",
      "metadata": {
        "id": "H21aysg4OV_V",
        "colab_type": "text"
      },
      "source": [
        "# 2.10"
      ]
    },
    {
      "cell_type": "code",
      "metadata": {
        "id": "Ty0SrcdsOWQL",
        "colab_type": "code",
        "colab": {
          "base_uri": "https://localhost:8080/",
          "height": 34
        },
        "outputId": "107fa838-f173-4868-ad98-22932702f012"
      },
      "source": [
        "#?????\n",
        "j=np.min(vec1)\n",
        "print(j)"
      ],
      "execution_count": 18,
      "outputs": [
        {
          "output_type": "stream",
          "text": [
            "-9.0\n"
          ],
          "name": "stdout"
        }
      ]
    },
    {
      "cell_type": "markdown",
      "metadata": {
        "id": "bz3NN4ePOpDK",
        "colab_type": "text"
      },
      "source": [
        "# 2.11"
      ]
    },
    {
      "cell_type": "code",
      "metadata": {
        "id": "KShgVZEiOqWk",
        "colab_type": "code",
        "colab": {
          "base_uri": "https://localhost:8080/",
          "height": 34
        },
        "outputId": "7182e7a2-2dfb-4836-df1f-449b92af0979"
      },
      "source": [
        "np.min(mat1)"
      ],
      "execution_count": 19,
      "outputs": [
        {
          "output_type": "execute_result",
          "data": {
            "text/plain": [
              "-9.0"
            ]
          },
          "metadata": {
            "tags": []
          },
          "execution_count": 19
        }
      ]
    },
    {
      "cell_type": "markdown",
      "metadata": {
        "id": "yqbWxl1xO1EE",
        "colab_type": "text"
      },
      "source": [
        "# 2.12"
      ]
    },
    {
      "cell_type": "code",
      "metadata": {
        "id": "rjkuANJLO2fG",
        "colab_type": "code",
        "colab": {
          "base_uri": "https://localhost:8080/",
          "height": 102
        },
        "outputId": "a48ef3be-508a-42fb-8dba-2171ebd609c9"
      },
      "source": [
        "A=np.array([[17,24,1,8,15],[23,5,7,14,16],[4,6,13,20,22],[10,12,19,21,3],[11,18,25,2,9]])\n",
        "D=np.diag(A)\n",
        "OD=np.fliplr(A)\n",
        "print(D)\n",
        "print(OD)"
      ],
      "execution_count": 28,
      "outputs": [
        {
          "output_type": "stream",
          "text": [
            "[[15  8  1 24 17]\n",
            " [16 14  7  5 23]\n",
            " [22 20 13  6  4]\n",
            " [ 3 21 19 12 10]\n",
            " [ 9  2 25 18 11]]\n"
          ],
          "name": "stdout"
        }
      ]
    },
    {
      "cell_type": "markdown",
      "metadata": {
        "id": "vsrb9jcvQTnj",
        "colab_type": "text"
      },
      "source": [
        "# 2.13"
      ]
    },
    {
      "cell_type": "code",
      "metadata": {
        "id": "qGOw86wQQU6h",
        "colab_type": "code",
        "colab": {
          "base_uri": "https://localhost:8080/",
          "height": 357
        },
        "outputId": "a8f57a7a-ef48-4788-e1e1-3a968ff0ed8e"
      },
      "source": [
        "M=np.random.rand(10,10)\n",
        "print(M)"
      ],
      "execution_count": 31,
      "outputs": [
        {
          "output_type": "stream",
          "text": [
            "[[0.17678945 0.95574125 0.26532176 0.6581577  0.67765289 0.34780384\n",
            "  0.75292393 0.71323818 0.01512429 0.95052845]\n",
            " [0.2061677  0.0893425  0.97130624 0.54251988 0.7809624  0.48352125\n",
            "  0.64438133 0.49832399 0.78532218 0.97848825]\n",
            " [0.71604343 0.45451427 0.54758275 0.57412303 0.67602994 0.72636699\n",
            "  0.21603372 0.20518139 0.0158777  0.54962773]\n",
            " [0.6252552  0.67170174 0.66116075 0.92646581 0.00524883 0.04375337\n",
            "  0.22814434 0.90261832 0.14332318 0.63080238]\n",
            " [0.57150731 0.40506335 0.43898381 0.26248453 0.15390543 0.82551335\n",
            "  0.78510711 0.6334408  0.77225065 0.56210098]\n",
            " [0.97006773 0.95047226 0.28485211 0.66693657 0.28937415 0.23036287\n",
            "  0.16492581 0.96059455 0.21562015 0.9703718 ]\n",
            " [0.64333173 0.94853599 0.07005059 0.73117601 0.49288707 0.07815814\n",
            "  0.38399111 0.73785654 0.66534875 0.44371076]\n",
            " [0.6367153  0.00596624 0.65446681 0.86496318 0.53188275 0.33508822\n",
            "  0.37075315 0.48523906 0.18842721 0.47840229]\n",
            " [0.44605943 0.28215364 0.39303259 0.39736797 0.41277807 0.46792525\n",
            "  0.26194458 0.046368   0.19531122 0.60828007]\n",
            " [0.81282171 0.74979056 0.86475687 0.72703867 0.15274456 0.76469192\n",
            "  0.57892972 0.41040066 0.9353742  0.14131527]]\n"
          ],
          "name": "stdout"
        }
      ]
    },
    {
      "cell_type": "markdown",
      "metadata": {
        "id": "Faoi7MS-Q4Wl",
        "colab_type": "text"
      },
      "source": [
        "# 2.14"
      ]
    },
    {
      "cell_type": "code",
      "metadata": {
        "id": "em6bn0VkQ5rn",
        "colab_type": "code",
        "colab": {
          "base_uri": "https://localhost:8080/",
          "height": 102
        },
        "outputId": "1067adc7-41d3-409c-8cf6-43e3bcc7c2d5"
      },
      "source": [
        "M[0:5,0:5]"
      ],
      "execution_count": 37,
      "outputs": [
        {
          "output_type": "execute_result",
          "data": {
            "text/plain": [
              "array([[0.17678945, 0.95574125, 0.26532176, 0.6581577 , 0.67765289],\n",
              "       [0.2061677 , 0.0893425 , 0.97130624, 0.54251988, 0.7809624 ],\n",
              "       [0.71604343, 0.45451427, 0.54758275, 0.57412303, 0.67602994],\n",
              "       [0.6252552 , 0.67170174, 0.66116075, 0.92646581, 0.00524883],\n",
              "       [0.57150731, 0.40506335, 0.43898381, 0.26248453, 0.15390543]])"
            ]
          },
          "metadata": {
            "tags": []
          },
          "execution_count": 37
        }
      ]
    },
    {
      "cell_type": "code",
      "metadata": {
        "id": "kqt9qIkARiMZ",
        "colab_type": "code",
        "colab": {
          "base_uri": "https://localhost:8080/",
          "height": 102
        },
        "outputId": "7e1f2103-e127-4e99-86a0-f0ec8823b656"
      },
      "source": [
        "M[0:5,5:10]"
      ],
      "execution_count": 38,
      "outputs": [
        {
          "output_type": "execute_result",
          "data": {
            "text/plain": [
              "array([[0.34780384, 0.75292393, 0.71323818, 0.01512429, 0.95052845],\n",
              "       [0.48352125, 0.64438133, 0.49832399, 0.78532218, 0.97848825],\n",
              "       [0.72636699, 0.21603372, 0.20518139, 0.0158777 , 0.54962773],\n",
              "       [0.04375337, 0.22814434, 0.90261832, 0.14332318, 0.63080238],\n",
              "       [0.82551335, 0.78510711, 0.6334408 , 0.77225065, 0.56210098]])"
            ]
          },
          "metadata": {
            "tags": []
          },
          "execution_count": 38
        }
      ]
    },
    {
      "cell_type": "code",
      "metadata": {
        "id": "vjkXMx7gRo7-",
        "colab_type": "code",
        "colab": {
          "base_uri": "https://localhost:8080/",
          "height": 102
        },
        "outputId": "eb8d082c-2278-4257-b932-5915e9a2a633"
      },
      "source": [
        "M[5:10,0:5]"
      ],
      "execution_count": 39,
      "outputs": [
        {
          "output_type": "execute_result",
          "data": {
            "text/plain": [
              "array([[0.97006773, 0.95047226, 0.28485211, 0.66693657, 0.28937415],\n",
              "       [0.64333173, 0.94853599, 0.07005059, 0.73117601, 0.49288707],\n",
              "       [0.6367153 , 0.00596624, 0.65446681, 0.86496318, 0.53188275],\n",
              "       [0.44605943, 0.28215364, 0.39303259, 0.39736797, 0.41277807],\n",
              "       [0.81282171, 0.74979056, 0.86475687, 0.72703867, 0.15274456]])"
            ]
          },
          "metadata": {
            "tags": []
          },
          "execution_count": 39
        }
      ]
    },
    {
      "cell_type": "code",
      "metadata": {
        "id": "QgwQZKouSMiL",
        "colab_type": "code",
        "colab": {
          "base_uri": "https://localhost:8080/",
          "height": 102
        },
        "outputId": "0ec24675-19fc-421a-9e94-0a35ab342cad"
      },
      "source": [
        "M[5:10,5:10]"
      ],
      "execution_count": 42,
      "outputs": [
        {
          "output_type": "execute_result",
          "data": {
            "text/plain": [
              "array([[0.23036287, 0.16492581, 0.96059455, 0.21562015, 0.9703718 ],\n",
              "       [0.07815814, 0.38399111, 0.73785654, 0.66534875, 0.44371076],\n",
              "       [0.33508822, 0.37075315, 0.48523906, 0.18842721, 0.47840229],\n",
              "       [0.46792525, 0.26194458, 0.046368  , 0.19531122, 0.60828007],\n",
              "       [0.76469192, 0.57892972, 0.41040066, 0.9353742 , 0.14131527]])"
            ]
          },
          "metadata": {
            "tags": []
          },
          "execution_count": 42
        }
      ]
    },
    {
      "cell_type": "code",
      "metadata": {
        "id": "fgt2nJtRZtbp",
        "colab_type": "code",
        "colab": {
          "base_uri": "https://localhost:8080/",
          "height": 34
        },
        "outputId": "8b525e16-2afb-4034-ab33-6efabefefcda"
      },
      "source": [
        "T={'hello','world'}\n",
        "S.intersection(T)\n",
        "S.union(T)\n"
      ],
      "execution_count": 9,
      "outputs": [
        {
          "output_type": "execute_result",
          "data": {
            "text/plain": [
              "{1, 2, 3, 'hello', 'world'}"
            ]
          },
          "metadata": {
            "tags": []
          },
          "execution_count": 9
        }
      ]
    },
    {
      "cell_type": "code",
      "metadata": {
        "id": "o7QL9QeNaSHs",
        "colab_type": "code",
        "colab": {
          "base_uri": "https://localhost:8080/",
          "height": 51
        },
        "outputId": "60700af2-1c72-4ac3-dee5-cef6daaae7e1"
      },
      "source": [
        "x=[3,3]\n",
        "y=x.copy()\n",
        "y[0]=10\n",
        "print(y)\n",
        "print(x)"
      ],
      "execution_count": 3,
      "outputs": [
        {
          "output_type": "stream",
          "text": [
            "[10, 3]\n",
            "[3, 3]\n"
          ],
          "name": "stdout"
        }
      ]
    },
    {
      "cell_type": "code",
      "metadata": {
        "id": "7mJ_40MvcjRs",
        "colab_type": "code",
        "colab": {
          "base_uri": "https://localhost:8080/",
          "height": 340
        },
        "outputId": "25b1ff44-6a43-4408-d168-cac195af7a4c"
      },
      "source": [
        "for i in range(10,-10,-1):\n",
        "  try:\n",
        "    print(1/i)\n",
        "  except:\n",
        "    pass"
      ],
      "execution_count": 7,
      "outputs": [
        {
          "output_type": "stream",
          "text": [
            "0.1\n",
            "0.1111111111111111\n",
            "0.125\n",
            "0.14285714285714285\n",
            "0.16666666666666666\n",
            "0.2\n",
            "0.25\n",
            "0.3333333333333333\n",
            "0.5\n",
            "1.0\n",
            "-1.0\n",
            "-0.5\n",
            "-0.3333333333333333\n",
            "-0.25\n",
            "-0.2\n",
            "-0.16666666666666666\n",
            "-0.14285714285714285\n",
            "-0.125\n",
            "-0.1111111111111111\n"
          ],
          "name": "stdout"
        }
      ]
    },
    {
      "cell_type": "code",
      "metadata": {
        "id": "6fnNz7QSgrBO",
        "colab_type": "code",
        "colab": {}
      },
      "source": [
        ""
      ],
      "execution_count": 0,
      "outputs": []
    }
  ]
}