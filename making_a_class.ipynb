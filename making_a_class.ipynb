{
  "nbformat": 4,
  "nbformat_minor": 0,
  "metadata": {
    "colab": {
      "name": "making_a_class.ipynb",
      "version": "0.3.2",
      "provenance": [],
      "collapsed_sections": [],
      "include_colab_link": true
    },
    "kernelspec": {
      "name": "python3",
      "display_name": "Python 3"
    }
  },
  "cells": [
    {
      "cell_type": "markdown",
      "metadata": {
        "id": "view-in-github",
        "colab_type": "text"
      },
      "source": [
        "<a href=\"https://colab.research.google.com/github/HakiemGrant/REU-Summer-2019/blob/master/making_a_class.ipynb\" target=\"_parent\"><img src=\"https://colab.research.google.com/assets/colab-badge.svg\" alt=\"Open In Colab\"/></a>"
      ]
    },
    {
      "cell_type": "code",
      "metadata": {
        "id": "Z4O0bX-kH6kD",
        "colab_type": "code",
        "outputId": "d5a1e4d3-8263-4f1f-fd96-afb711745c51",
        "colab": {
          "base_uri": "https://localhost:8080/",
          "height": 34
        }
      },
      "source": [
        "import numpy as np\n",
        "tol=1e-4\n",
        "side=10\n",
        "\n",
        "class particle():\n",
        "  def __init__(self,radius,mass=1, gamma=3):\n",
        "    self.name= \"Kiem\"\n",
        "    self.radius=radius\n",
        "    self.mass=mass\n",
        "    \n",
        "    assert gamma>=0,f\"gamma must be non-negative. I got {gamma}\" #cool little check tool to ensure that you give desired inputs\n",
        "    self.gamma=gamma\n",
        "    \n",
        "    \n",
        "class wall():\n",
        "  pass\n",
        "class Flatwall(wall):\n",
        "  def __init__(self,base,normal,tangent):\n",
        "    self.base=base\n",
        "    self.normal=np.asarray(normal)/np.linalg.norm(normal)  \n",
        "    self.tangent=np.asarray(tangent)/np.linalg.norm(tangent)\n",
        "    assert abs(self.normal @ self.tangent)<tol, f\"normal and tangent must be orthogonal\"\n",
        "  \n",
        "  def get_normal(self,part):\n",
        "    return self.normal\n",
        "class Circlewall():\n",
        "  def __init__(self, radius, normal, tangent#continue to fill today)\n",
        "    ds\n",
        "               \n",
        "               \n",
        "  def get_normal(self,part):\n",
        "    n=part.pos-self.base\n",
        "    #-------------------\n",
        "    return n"
      ],
      "execution_count": 0,
      "outputs": [
        {
          "output_type": "execute_result",
          "data": {
            "text/plain": [
              "array([ 0., -1.])"
            ]
          },
          "metadata": {
            "tags": []
          },
          "execution_count": 21
        }
      ]
    },
    {
      "cell_type": "code",
      "metadata": {
        "id": "uUwynB9VIjRG",
        "colab_type": "code",
        "colab": {}
      },
      "source": [
        ""
      ],
      "execution_count": 0,
      "outputs": []
    }
  ]
}